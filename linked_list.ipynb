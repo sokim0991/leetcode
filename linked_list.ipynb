{
 "cells": [
  {
   "cell_type": "code",
   "execution_count": 1,
   "metadata": {},
   "outputs": [],
   "source": [
    "#NODE\n",
    "class Node: #define function called 'Node'\n",
    "    def __init__(self, item) : \n",
    "        self.val = item #save item in 'val' and this node is the head of linked list\n",
    "        self.next = None #'next' means the other node"
   ]
  },
  {
   "cell_type": "code",
   "execution_count": 2,
   "metadata": {},
   "outputs": [],
   "source": [
    "#ADD\n",
    "def add(self, item): \n",
    "    cur = self.head\n",
    "    while cur.next is not None: #cur.next is not None so goes next\n",
    "        cur = cur.next\n",
    "    cur.next = Node(item) #since the next is none, generate new node"
   ]
  },
  {
   "cell_type": "code",
   "execution_count": 5,
   "metadata": {},
   "outputs": [],
   "source": [
    "#PRINT\n",
    "def printlist(self):\n",
    "    cur = self.head\n",
    "    while cur is not None:\n",
    "        print(cur.val)\n",
    "        cur = cur.next"
   ]
  },
  {
   "cell_type": "code",
   "execution_count": null,
   "metadata": {},
   "outputs": [],
   "source": [
    "#REVERSE\n",
    "def reverse(self):\n",
    "    prev = None #make a variable '(0)prev'\n",
    "    cur = self.head\n",
    "    while cur is not None: #repeat till cur is none\n",
    "        next = cur.next\n",
    "        cur.next = prev #cur.next goes to (0)prev\n",
    "        prev = cur #prev goes to (1)cur\n",
    "        cur = next #cur gose to (2)next\n",
    "    self.head = prev"
   ]
  }
 ],
 "metadata": {
  "kernelspec": {
   "display_name": "Python 3",
   "language": "python",
   "name": "python3"
  },
  "language_info": {
   "codemirror_mode": {
    "name": "ipython",
    "version": 3
   },
   "file_extension": ".py",
   "mimetype": "text/x-python",
   "name": "python",
   "nbconvert_exporter": "python",
   "pygments_lexer": "ipython3",
   "version": "3.8.2"
  }
 },
 "nbformat": 4,
 "nbformat_minor": 4
}
