{
 "cells": [
  {
   "cell_type": "code",
   "execution_count": 1,
   "metadata": {},
   "outputs": [
    {
     "data": {
      "text/plain": [
       "3"
      ]
     },
     "execution_count": 1,
     "metadata": {},
     "output_type": "execute_result"
    }
   ],
   "source": [
    "class Solution(object):\n",
    "    def numJewelsInStones(self, J, S):\n",
    "        J_count = 0\n",
    "    \n",
    "        for x in S:\n",
    "            if x in J:\n",
    "                J_count += 1\n",
    "\n",
    "        return J_count\n",
    "\n",
    "J = \"aA\"\n",
    "S = \"aAAbbbb\"\n",
    "\n",
    "a = Solution()\n",
    "a.numJewelsInStones(J, S)\n"
   ]
  }
 ],
 "metadata": {
  "kernelspec": {
   "display_name": "Python 3",
   "language": "python",
   "name": "python3"
  },
  "language_info": {
   "codemirror_mode": {
    "name": "ipython",
    "version": 3
   },
   "file_extension": ".py",
   "mimetype": "text/x-python",
   "name": "python",
   "nbconvert_exporter": "python",
   "pygments_lexer": "ipython3",
   "version": "3.8.2"
  }
 },
 "nbformat": 4,
 "nbformat_minor": 4
}
