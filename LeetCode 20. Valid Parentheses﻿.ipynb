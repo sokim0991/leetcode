{
 "cells": [
  {
   "cell_type": "code",
   "execution_count": 11,
   "metadata": {},
   "outputs": [],
   "source": [
    "def isValid(s):         \n",
    "    s_list = list(s)\n",
    "    answer = True\n",
    "    stack = [] \n",
    "        \n",
    "    for s in s_list: \n",
    "        if s == '[' or s == '(' or s == '{':\n",
    "            stack.append(s)\n",
    "        elif len(stack) != 0:\n",
    "            if (s == ']' and stack[-1] == '[') or (s == '}' and stack[-1] == '{') or (s == ')' and stack[-1] == '('):\n",
    "                stack.pop() \n",
    "            else: \n",
    "                answer = False \n",
    "                break \n",
    "        else: \n",
    "            answer = False \n",
    "            break \n",
    "    if len(stack) != 0:\n",
    "        answer = False \n",
    "            \n",
    "    return answer"
   ]
  },
  {
   "cell_type": "code",
   "execution_count": 12,
   "metadata": {},
   "outputs": [
    {
     "data": {
      "text/plain": [
       "True"
      ]
     },
     "execution_count": 12,
     "metadata": {},
     "output_type": "execute_result"
    }
   ],
   "source": [
    "s = \"()[]{}\"\n",
    "isValid(s)"
   ]
  }
 ],
 "metadata": {
  "kernelspec": {
   "display_name": "Python 3",
   "language": "python",
   "name": "python3"
  },
  "language_info": {
   "codemirror_mode": {
    "name": "ipython",
    "version": 3
   },
   "file_extension": ".py",
   "mimetype": "text/x-python",
   "name": "python",
   "nbconvert_exporter": "python",
   "pygments_lexer": "ipython3",
   "version": "3.8.3"
  }
 },
 "nbformat": 4,
 "nbformat_minor": 4
}
