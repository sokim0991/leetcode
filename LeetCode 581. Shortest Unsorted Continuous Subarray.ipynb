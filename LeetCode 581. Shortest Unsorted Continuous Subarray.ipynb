{
 "cells": [
  {
   "cell_type": "code",
   "execution_count": 15,
   "metadata": {},
   "outputs": [
    {
     "data": {
      "text/plain": [
       "2"
      ]
     },
     "execution_count": 15,
     "metadata": {},
     "output_type": "execute_result"
    }
   ],
   "source": [
    "def findUnsortedSubarray(nums):\n",
    "    start = 0 #start는 첫번째 자리 수\n",
    "    end = len(nums)-1 #end는 마지막 자리 수 \n",
    "        \n",
    "    while start <= end and min(nums[start:end+1]) == nums[start]: \n",
    "    #start가 end보다 작고 nums리스트에서 가장 작은 수가 nums의 start번째 수와 같지 않을 때까지\n",
    "            start+=1 #start에 1씩 더한다\n",
    "    while start <= end and max(nums[start:end+1]) == nums[end]:\n",
    "    #start가 end보다 크고 nums리스트에서 큰 작은 수가 nums의 end+1번째 수와 같지 않을 때까지\n",
    "            end-=1 #end에 1씩 뺀다\n",
    "        \n",
    "    return end-start+1 \n",
    "    \n",
    "nums = [2, 6, 4, 8, 9, 10, 15]\n",
    "findUnsortedSubarray(nums)"
   ]
  },
  {
   "cell_type": "code",
   "execution_count": null,
   "metadata": {},
   "outputs": [],
   "source": []
  }
 ],
 "metadata": {
  "kernelspec": {
   "display_name": "Python 3",
   "language": "python",
   "name": "python3"
  },
  "language_info": {
   "codemirror_mode": {
    "name": "ipython",
    "version": 3
   },
   "file_extension": ".py",
   "mimetype": "text/x-python",
   "name": "python",
   "nbconvert_exporter": "python",
   "pygments_lexer": "ipython3",
   "version": "3.8.2"
  }
 },
 "nbformat": 4,
 "nbformat_minor": 4
}
