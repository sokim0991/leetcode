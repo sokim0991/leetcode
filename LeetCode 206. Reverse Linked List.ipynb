{
 "cells": [
  {
   "cell_type": "code",
   "execution_count": 20,
   "metadata": {
    "scrolled": true
   },
   "outputs": [],
   "source": [
    "class Solution(object):\n",
    "    def reverseList(head):\n",
    "        prev = None\n",
    "        curr = head\n",
    "        \n",
    "        while curr!= None:\n",
    "            tmp = curr.next\n",
    "            curr.next = prev\n",
    "            prev = curr\n",
    "            curr = tmp\n",
    "            \n",
    "        return prev"
   ]
  }
 ],
 "metadata": {
  "kernelspec": {
   "display_name": "Python 3",
   "language": "python",
   "name": "python3"
  },
  "language_info": {
   "codemirror_mode": {
    "name": "ipython",
    "version": 3
   },
   "file_extension": ".py",
   "mimetype": "text/x-python",
   "name": "python",
   "nbconvert_exporter": "python",
   "pygments_lexer": "ipython3",
   "version": "3.8.2"
  }
 },
 "nbformat": 4,
 "nbformat_minor": 4
}
