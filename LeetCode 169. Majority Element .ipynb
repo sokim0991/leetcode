{
 "cells": [
  {
   "cell_type": "code",
   "execution_count": 3,
   "metadata": {},
   "outputs": [
    {
     "data": {
      "text/plain": [
       "2"
      ]
     },
     "execution_count": 3,
     "metadata": {},
     "output_type": "execute_result"
    }
   ],
   "source": [
    "#Boyer–Moore majority vote algorithm 사용\n",
    "\n",
    "nums = [2,2,1,1,1,2,2]\n",
    "\n",
    "class Solution_1:\n",
    "    def majorityElement(self, nums):\n",
    "        count = 0\n",
    "        major = None\n",
    "        for n in nums:\n",
    "            if count == 0:\n",
    "                major = n\n",
    "            if n == major:\n",
    "                count += 1\n",
    "            else:\n",
    "                count -= 1\n",
    "        return major\n",
    "    \n",
    "a = Solution_1()\n",
    "\n",
    "a.majorityElement(nums)"
   ]
  },
  {
   "cell_type": "code",
   "execution_count": 6,
   "metadata": {},
   "outputs": [
    {
     "data": {
      "text/plain": [
       "3"
      ]
     },
     "execution_count": 6,
     "metadata": {},
     "output_type": "execute_result"
    }
   ],
   "source": [
    "#most_common : collections 모듈 - Counter 중 하나\n",
    "#most_common은 입력된 값의 요소들 중 빈도수(frequency)가 높은 순으로 상위 n개를 리스트(list) 안의 투플(tuple) 형태로 반환\n",
    "#n을 입력하지 않은 경우, 요소 전체를 [('값', 개수)]의 형태로 반환\n",
    "\n",
    "\n",
    "import collections \n",
    "\n",
    "nums = [3,2,3]\n",
    "\n",
    "class Solution_2(object):\n",
    "    def majorityElement(self, nums):\n",
    "        count = collections.Counter(nums)\n",
    "        return count.most_common(1)[0][0]\n",
    "    \n",
    "b = Solution_2()\n",
    "b.majorityElement(nums)"
   ]
  }
 ],
 "metadata": {
  "kernelspec": {
   "display_name": "Python 3",
   "language": "python",
   "name": "python3"
  },
  "language_info": {
   "codemirror_mode": {
    "name": "ipython",
    "version": 3
   },
   "file_extension": ".py",
   "mimetype": "text/x-python",
   "name": "python",
   "nbconvert_exporter": "python",
   "pygments_lexer": "ipython3",
   "version": "3.8.2"
  }
 },
 "nbformat": 4,
 "nbformat_minor": 4
}
