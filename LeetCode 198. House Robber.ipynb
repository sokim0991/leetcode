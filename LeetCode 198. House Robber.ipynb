{
 "cells": [
  {
   "cell_type": "code",
   "execution_count": 5,
   "metadata": {
    "scrolled": true
   },
   "outputs": [
    {
     "data": {
      "text/plain": [
       "4"
      ]
     },
     "execution_count": 5,
     "metadata": {},
     "output_type": "execute_result"
    }
   ],
   "source": [
    "nums = [1,2,3,1]\n",
    "\n",
    "class Solution:\n",
    "    def rob(self, nums):\n",
    "        prev = 0\n",
    "        curr = 0\n",
    "        for i in nums:\n",
    "            prev, curr = curr, max(curr, prev + i)\n",
    "        return curr\n",
    "    \n",
    "a = Solution()\n",
    "a.rob(nums)"
   ]
  },
  {
   "cell_type": "code",
   "execution_count": 6,
   "metadata": {},
   "outputs": [
    {
     "data": {
      "text/plain": [
       "12"
      ]
     },
     "execution_count": 6,
     "metadata": {},
     "output_type": "execute_result"
    }
   ],
   "source": [
    "nums = [2,7,9,3,1]\n",
    "\n",
    "def rob(self, nums):\n",
    "    prev = curr = 0\n",
    "    for n in nums:\n",
    "        curr, prev = max(curr, prev), curr + n\n",
    "    return max(prev, curr)\n",
    "    \n",
    "a = Solution()\n",
    "a.rob(nums)"
   ]
  }
 ],
 "metadata": {
  "kernelspec": {
   "display_name": "Python 3",
   "language": "python",
   "name": "python3"
  },
  "language_info": {
   "codemirror_mode": {
    "name": "ipython",
    "version": 3
   },
   "file_extension": ".py",
   "mimetype": "text/x-python",
   "name": "python",
   "nbconvert_exporter": "python",
   "pygments_lexer": "ipython3",
   "version": "3.8.2"
  }
 },
 "nbformat": 4,
 "nbformat_minor": 4
}
